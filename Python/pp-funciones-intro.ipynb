{
 "cells": [
  {
   "cell_type": "markdown",
   "metadata": {},
   "source": [
    "# Funciones Intro"
   ]
  },
  {
   "cell_type": "markdown",
   "metadata": {},
   "source": [
    "1. Cread una función que reciba 2 números enteros en forma de string como entrada, y dé como resultado la suma (también en forma de string).\n",
    "\n",
    "Condiciones:\n",
    "- Si los dos parámetros que recibe la función son strings vacíos la función nos debe devolver \"0\".\n",
    "- Si el primer parámetro es un string vacío, la función nos devuelve el valor del segundo parámetro y viceversa.\n",
    "\n",
    "Probad la función para las siguientes combinaciones de \"números\":\n",
    "​\n",
    "- \"4\",  \"5\" --> \"9\"\n",
    "- \"34\", \"5\" --> \"39\"\n",
    "- \"\", \"\" --> \"0\"\n",
    "- \"2\", \"\" --> \"2\"\n"
   ]
  },
  {
   "cell_type": "code",
   "execution_count": 14,
   "metadata": {},
   "outputs": [],
   "source": [
    "d = input(\"Elige un valor para sumar\")\n",
    "e = input(\"Elige otro valor para sumar\")\n",
    "\n",
    "def suma(d,e):\n",
    "    if d == \"\":\n",
    "         d = d.replace(\"\", \"0\")\n",
    "    if e == \"\":\n",
    "         e = e.replace(\"\", \"0\")\n",
    "    sumar = int(d) + int(e)\n",
    "    return str(sumar)"
   ]
  },
  {
   "cell_type": "code",
   "execution_count": 17,
   "metadata": {},
   "outputs": [
    {
     "name": "stdout",
     "output_type": "stream",
     "text": [
      "9\n",
      "39\n",
      "0\n",
      "2\n",
      "-2\n",
      "<class 'str'>\n"
     ]
    }
   ],
   "source": [
    "print(suma(5,4))\n",
    "print(suma(34,5))\n",
    "print(suma(\"\",\"\"))\n",
    "print(suma(2,\"\"))\n",
    "print(suma(-5,3))\n",
    "\n",
    "print(type(suma(-5,3))) #ejecutamos esta línea de código para confirmar que el resultado da un str"
   ]
  },
  {
   "cell_type": "markdown",
   "metadata": {},
   "source": [
    "2. El objetivo es comparar cada par de enteros de 2 listas, y devolver una nueva lista con el número mayor de la comparación.\n",
    "Probad la función para las siguientes listas: \n",
    "\n"
   ]
  },
  {
   "cell_type": "code",
   "execution_count": 57,
   "metadata": {},
   "outputs": [],
   "source": [
    "arr1 = [13, 64, 15, 17, 88]\n",
    "arr2 = [23, 14, 53, 17, 80]\n",
    "resultado = [23, 64, 53, 17, 88]\n",
    "union_lista = []"
   ]
  },
  {
   "cell_type": "code",
   "execution_count": 64,
   "metadata": {},
   "outputs": [],
   "source": [
    "def unir_listas():\n",
    "    for r in arr1, arr2:\n",
    "        while len(union_lista) < len(arr1):\n",
    "            if arr1[0] > arr2[0]:\n",
    "                return union_lista.append(arr1[0])\n",
    "            else:\n",
    "                return union_lista.append(arr2[0])\n",
    "        break"
   ]
  },
  {
   "cell_type": "code",
   "execution_count": null,
   "metadata": {},
   "outputs": [],
   "source": [
    "def unir_listas(list1, list2):\n",
    "    union_lista = []\n",
    "    for r in list1, list2:\n",
    "        "
   ]
  },
  {
   "cell_type": "code",
   "execution_count": 65,
   "metadata": {},
   "outputs": [
    {
     "data": {
      "text/plain": [
       "[]"
      ]
     },
     "execution_count": 65,
     "metadata": {},
     "output_type": "execute_result"
    }
   ],
   "source": [
    "union_lista"
   ]
  },
  {
   "cell_type": "code",
   "execution_count": 1,
   "metadata": {},
   "outputs": [],
   "source": [
    "def unir_listas():\n",
    "    arr1_copia = [13, 64, 15, 17, 88]\n",
    "    arr2_copia = [23, 14, 53, 17, 80]\n",
    "    union_lista = []\n",
    "    while len(union_lista) < len(arr1):\n",
    "        for i in [range(len(arr1_copia))]:\n",
    "            if arr1_copia[i] > arr2_copia[i]:\n",
    "                union_lista.append(arr1[i])\n",
    "                arr1_copia.remove([i])\n",
    "            else:\n",
    "                union_lista.append(arr2[i])\n",
    "        return union_lista"
   ]
  },
  {
   "cell_type": "code",
   "execution_count": 2,
   "metadata": {},
   "outputs": [
    {
     "ename": "NameError",
     "evalue": "name 'union_lista' is not defined",
     "output_type": "error",
     "traceback": [
      "\u001b[1;31m---------------------------------------------------------------------------\u001b[0m",
      "\u001b[1;31mNameError\u001b[0m                                 Traceback (most recent call last)",
      "Cell \u001b[1;32mIn [2], line 1\u001b[0m\n\u001b[1;32m----> 1\u001b[0m \u001b[39mprint\u001b[39m(union_lista)\n",
      "\u001b[1;31mNameError\u001b[0m: name 'union_lista' is not defined"
     ]
    }
   ],
   "source": [
    "print(union_lista)"
   ]
  },
  {
   "cell_type": "markdown",
   "metadata": {},
   "source": [
    "3. El objetivo de este ejercicio es convertir un string en un nuevo string en el que cada carácter del nuevo string es \"(\" si ese carácter aparece sólo una vez en el string original, o \")\" si ese carácter aparece más de una vez en el string. Nuestro código no tiene que ser case sensitive, es decir, si hay una letra en mayúscula y en minúscula cuenta como dos apariciones.\n",
    "Probad la función para los siguientes strings \n",
    "\n",
    "- \"din\"      =>  \"(((\"\n",
    "- \"recede\"   =>  \"()()()\"\n",
    "- \"Success\"  =>  \")())())\"\n",
    "- \"(( @\"     =>  \"))((\" \n",
    "- \"Ocvl@GamFLAFkixkS\" => \"((()(()()))))(()(\"\n"
   ]
  },
  {
   "cell_type": "code",
   "execution_count": null,
   "metadata": {},
   "outputs": [],
   "source": [
    "\"din\"      =>  \"(((\"\n",
    "\"recede\"   =>  \"()()()\"\n",
    "\"Success\"  =>  \")())())\"\n",
    "\"(( @\"     =>  \"))((\" \n",
    "\"Ocvl@GamFLAFkixkS\" => \"((()(()()))))(()(\""
   ]
  },
  {
   "cell_type": "markdown",
   "metadata": {},
   "source": [
    "\"din\"      =>  \"(((\"  \n",
    "\"recede\"   =>  \"()()()\"  \n",
    "\"Success\"  =>  \")())())\"  \n",
    "\"(( @\"     =>  \"))((\"   \n",
    "\"Ocvl@GamFLAFkixkS\" => \"((()(()()))))(()(\"  "
   ]
  },
  {
   "cell_type": "code",
   "execution_count": 47,
   "metadata": {},
   "outputs": [
    {
     "data": {
      "text/plain": [
       "'miau'"
      ]
     },
     "execution_count": 47,
     "metadata": {},
     "output_type": "execute_result"
    }
   ],
   "source": [
    "palabra = input(\"Dime una palabra\").lower\n",
    "palabra"
   ]
  },
  {
   "cell_type": "code",
   "execution_count": 8,
   "metadata": {},
   "outputs": [],
   "source": [
    "def parentesis(str):\n",
    "    str = str.lower()\n",
    "    palabra_modificada = \"\"\n",
    "    for m in str:\n",
    "        if str.count(m) == 1:\n",
    "            palabra_modificada = palabra_modificada + \"(\"\n",
    "        else:\n",
    "            palabra_modificada = palabra_modificada + \")\"\n",
    "    return palabra_modificada\n",
    "    "
   ]
  },
  {
   "cell_type": "code",
   "execution_count": 9,
   "metadata": {},
   "outputs": [
    {
     "name": "stdout",
     "output_type": "stream",
     "text": [
      "(((\n",
      "()()()\n",
      ")())())\n",
      "))((\n",
      "((()(()()))))(()(\n"
     ]
    }
   ],
   "source": [
    "print(parentesis(\"din\"))\n",
    "print(parentesis(\"recede\"))\n",
    "print(parentesis(\"Success\"))\n",
    "print(parentesis(\"(( @\" ))\n",
    "print(parentesis(\"Ocvl@GamFLAFkixkS\"))\n"
   ]
  },
  {
   "cell_type": "markdown",
   "metadata": {},
   "source": [
    "## BONUS 4\n",
    "\n",
    "Escribid una función,  que tome la receta (diccionario) y los ingredientes disponibles (también un diccionario) y devuelva el número máximo de pasteles que Pete puede hornear (entero). Para simplificar, no hay unidades para las cantidades (por ejemplo, 1 libra de harina o 200 g de azúcar son simplemente 1 o 200). Los ingredientes que no están presentes en los diccionarios, pueden ser considerados como 0.\n",
    "\n",
    "```\n",
    "Probad con los siguientes diccionarios: \n",
    "\n",
    "RECETA {'flour': 500, 'sugar': 200, 'eggs': 1}, \n",
    "INGREDIENTES {'flour': 1200, 'sugar': 1200, 'eggs': 5, 'milk': 200}\n",
    "\n",
    "RESULTADO: 2 \n",
    "----------\n",
    "\n",
    "RECETA {'apples': 3, 'flour': 300, 'sugar': 150, 'milk': 100, 'oil': 100}\n",
    "INGREDIENTES {'sugar': 500, 'flour': 2000, 'milk': 2000}\n",
    "\n",
    "RESULTADO 0\n",
    "``` \n",
    "**Pista**: Nuestra función recibirá dos parámetros. "
   ]
  },
  {
   "cell_type": "code",
   "execution_count": 13,
   "metadata": {},
   "outputs": [],
   "source": [
    "#BONUS 4\n",
    "\n",
    "receta = {'flour': 500, 'sugar': 200, 'eggs': 1} \n",
    "ingredientes = {'flour': 1200, 'sugar': 1200, 'eggs': 5, 'milk': 200}"
   ]
  },
  {
   "cell_type": "code",
   "execution_count": 18,
   "metadata": {},
   "outputs": [
    {
     "name": "stdout",
     "output_type": "stream",
     "text": [
      "Tengo este flour\n",
      "Tengo este sugar\n",
      "Tengo este eggs\n"
     ]
    }
   ],
   "source": [
    "for key in receta:\n",
    "    if key in ingredientes:\n",
    "        print(f\"Tengo este {key}\")\n",
    "    else:\n",
    "        print(0)"
   ]
  },
  {
   "cell_type": "code",
   "execution_count": 22,
   "metadata": {},
   "outputs": [],
   "source": [
    "numero_bizcochos = []"
   ]
  },
  {
   "cell_type": "code",
   "execution_count": 28,
   "metadata": {},
   "outputs": [],
   "source": [
    "def hacer_pasteles(dicc_receta, dicc_ingredientes):\n",
    "    for key in receta:\n",
    "        if key not in dicc_receta:\n",
    "            return print(0)\n",
    "        else:\n",
    "            return numero_bizcochos.append(dicc_ingredientes[key]//dicc_receta[key])"
   ]
  },
  {
   "cell_type": "code",
   "execution_count": 31,
   "metadata": {},
   "outputs": [
    {
     "data": {
      "text/plain": [
       "[2, 6, 5]"
      ]
     },
     "execution_count": 31,
     "metadata": {},
     "output_type": "execute_result"
    }
   ],
   "source": [
    "numero_bizcochos"
   ]
  },
  {
   "cell_type": "code",
   "execution_count": 30,
   "metadata": {},
   "outputs": [
    {
     "data": {
      "text/plain": [
       "2"
      ]
     },
     "execution_count": 30,
     "metadata": {},
     "output_type": "execute_result"
    }
   ],
   "source": [
    "min(numero_bizcochos)"
   ]
  },
  {
   "cell_type": "markdown",
   "metadata": {},
   "source": [
    "## BONUS 5.\n",
    "\n",
    "Escribid una función que va a ser una calculadora. La lista recibirá dos parámetros, una lista de números y un string con la operación que queremos hacer (puede ser \"*\", \"+\")"
   ]
  },
  {
   "cell_type": "code",
   "execution_count": 38,
   "metadata": {},
   "outputs": [],
   "source": [
    "def calculadora(arr, operacion):\n",
    "     #la variable en la que almacenemos el resultado\n",
    "    #tiene que ser un int ya que es el tipo de variable que queremos que nos devuelva la operación\n",
    "        if operacion == 'multiplicacion' or '*':\n",
    "        #la variable en la que almacenemos el resultado tiene que ser 1 ya que si multiplica en algún momento por cero daría 0.\n",
    "            resultado = 1\n",
    "            for i in arr:\n",
    "                resultado *= i\n",
    "            return resultado\n",
    "        elif operacion == 'suma' or '+':\n",
    "            resultado = 0\n",
    "            suma = []\n",
    "            for i in arr:\n",
    "                resultado +=1\n",
    "        return resultado\n"
   ]
  },
  {
   "cell_type": "markdown",
   "metadata": {},
   "source": [
    "Generamos una lista de ints (lista1) para comprobar que la función \"funciona\":"
   ]
  },
  {
   "cell_type": "code",
   "execution_count": 3,
   "metadata": {},
   "outputs": [],
   "source": [
    "lista1 = [3, 4, 5, 6]"
   ]
  },
  {
   "cell_type": "code",
   "execution_count": 39,
   "metadata": {},
   "outputs": [
    {
     "data": {
      "text/plain": [
       "360"
      ]
     },
     "execution_count": 39,
     "metadata": {},
     "output_type": "execute_result"
    }
   ],
   "source": [
    "calculadora(lista1, '*')"
   ]
  },
  {
   "cell_type": "code",
   "execution_count": 40,
   "metadata": {},
   "outputs": [
    {
     "data": {
      "text/plain": [
       "360"
      ]
     },
     "execution_count": 40,
     "metadata": {},
     "output_type": "execute_result"
    }
   ],
   "source": [
    "calculadora(lista1, 'suma')"
   ]
  }
 ],
 "metadata": {
  "kernelspec": {
   "display_name": "Python 3.10.7 64-bit",
   "language": "python",
   "name": "python3"
  },
  "language_info": {
   "codemirror_mode": {
    "name": "ipython",
    "version": 3
   },
   "file_extension": ".py",
   "mimetype": "text/x-python",
   "name": "python",
   "nbconvert_exporter": "python",
   "pygments_lexer": "ipython3",
   "version": "3.10.7"
  },
  "orig_nbformat": 4,
  "vscode": {
   "interpreter": {
    "hash": "0c7d85b6ca8c4414e9248eeaa7ba80594b1aefb2b06fa07a2481546730d70288"
   }
  }
 },
 "nbformat": 4,
 "nbformat_minor": 2
}
