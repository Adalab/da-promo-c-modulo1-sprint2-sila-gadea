{
 "cells": [
  {
   "cell_type": "markdown",
   "metadata": {},
   "source": [
    "Importamos el módulo re y abrimos el documento email.txt para hacerlo legible desde el VSC:"
   ]
  },
  {
   "cell_type": "code",
   "execution_count": 67,
   "metadata": {},
   "outputs": [],
   "source": [
    "import re\n",
    "email = open(\"email.txt\", \"r\").read()"
   ]
  },
  {
   "cell_type": "code",
   "execution_count": 68,
   "metadata": {},
   "outputs": [],
   "source": [
    "dicc_regx = {\"Address\": [], \"Name\": [], \"Day\": [], \"Subject\": []}"
   ]
  },
  {
   "cell_type": "markdown",
   "metadata": {},
   "source": [
    "1. Extraer el email de la persona que envió el email (os deberían salir 2). Tendremos que hacer dos búsquedas: "
   ]
  },
  {
   "cell_type": "markdown",
   "metadata": {},
   "source": [
    "- Una para extraer toda la información del remitente"
   ]
  },
  {
   "cell_type": "code",
   "execution_count": 70,
   "metadata": {},
   "outputs": [],
   "source": [
    "patron1_ej1= \"From:.*\""
   ]
  },
  {
   "cell_type": "markdown",
   "metadata": {},
   "source": [
    "Una para extraer toda la información del remitente"
   ]
  },
  {
   "cell_type": "code",
   "execution_count": 71,
   "metadata": {},
   "outputs": [
    {
     "name": "stdout",
     "output_type": "stream",
     "text": [
      "From: \"Mr. Ben Suleman\" <bensul2004nng@spinfinder.com>\n",
      "From: \"MR. JAMES NGOLA.\" <james_ngola2002@maktoob.com>\n"
     ]
    }
   ],
   "source": [
    "for linea in re.findall(patron1_ej1, email):\n",
    "    \n",
    "    print(linea)"
   ]
  },
  {
   "cell_type": "markdown",
   "metadata": {},
   "source": [
    "- Otra para extraer el email únicamente:"
   ]
  },
  {
   "cell_type": "code",
   "execution_count": 72,
   "metadata": {},
   "outputs": [],
   "source": [
    "patron2_ej1 = \"\\w\\S*@.*\\w\""
   ]
  },
  {
   "cell_type": "code",
   "execution_count": 73,
   "metadata": {},
   "outputs": [
    {
     "name": "stdout",
     "output_type": "stream",
     "text": [
      "['bensul2004nng@spinfinder.com']\n",
      "['james_ngola2002@maktoob.com']\n"
     ]
    }
   ],
   "source": [
    "for linea in re.findall(patron1_ej1, email):\n",
    "    email_value = re.findall(patron2_ej1, linea)\n",
    "    dicc_regx[\"Address\"] += email_value\n",
    "    print(email_value)"
   ]
  },
  {
   "cell_type": "markdown",
   "metadata": {},
   "source": [
    "2. Extraer el nombre de la persona que envió el email (os deberían salir 2). Tendremos que hacer dos búsquedas:"
   ]
  },
  {
   "cell_type": "markdown",
   "metadata": {},
   "source": [
    "- Podemos usar el resultado de la primera búsqueda del ejercicio anterior para sacar el nombre."
   ]
  },
  {
   "cell_type": "markdown",
   "metadata": {},
   "source": [
    "- Otra para extraer el nombre únicamente."
   ]
  },
  {
   "cell_type": "code",
   "execution_count": 74,
   "metadata": {},
   "outputs": [],
   "source": [
    "patron1_ej2 = \"\\\".*\\\"\""
   ]
  },
  {
   "cell_type": "code",
   "execution_count": 75,
   "metadata": {},
   "outputs": [
    {
     "name": "stdout",
     "output_type": "stream",
     "text": [
      "['\"Mr. Ben Suleman\"']\n",
      "['\"MR. JAMES NGOLA.\"']\n"
     ]
    }
   ],
   "source": [
    "for linea in re.findall(patron1_ej1, email):\n",
    "    name_value=re.findall(patron1_ej2, linea)\n",
    "    dicc_regx[\"Name\"] += name_value\n",
    "    print(name_value)"
   ]
  },
  {
   "cell_type": "markdown",
   "metadata": {},
   "source": [
    "    En nuestro caso solo ha hecho falta una función, ya que hemos utilizado \"\\\" para evitar caracteres especiales como son los dos puntos detrás del From. Después, el \".*\" nos da todos los caracteres que hay en la línea. Hasta que lo cerramos con \\ para que tampoco nos de el email."
   ]
  },
  {
   "cell_type": "markdown",
   "metadata": {},
   "source": [
    "3. El día en el que se mandó el email (os deberían salir 2)."
   ]
  },
  {
   "cell_type": "code",
   "execution_count": 76,
   "metadata": {},
   "outputs": [],
   "source": [
    "ej3_patron1 = \"Date:.*\""
   ]
  },
  {
   "cell_type": "code",
   "execution_count": 77,
   "metadata": {},
   "outputs": [
    {
     "name": "stdout",
     "output_type": "stream",
     "text": [
      "Date: Thu, 31 Oct 2002 05:10:00\n",
      "Date: Thu, 31 Oct 2002 02:38:20 +0000\n"
     ]
    }
   ],
   "source": [
    "for linea in re.findall(ej3_patron1, email):\n",
    "    print(linea)"
   ]
  },
  {
   "cell_type": "markdown",
   "metadata": {},
   "source": [
    "Ahora, para ver solo el día:"
   ]
  },
  {
   "cell_type": "code",
   "execution_count": 78,
   "metadata": {},
   "outputs": [],
   "source": [
    "ej3_patron2 = \"\\w+\\,\\s\\d+\\s\\w+\\s\\d+\""
   ]
  },
  {
   "cell_type": "code",
   "execution_count": 79,
   "metadata": {},
   "outputs": [
    {
     "name": "stdout",
     "output_type": "stream",
     "text": [
      "['Thu, 31 Oct 2002']\n",
      "['Thu, 31 Oct 2002']\n"
     ]
    }
   ],
   "source": [
    "for linea in re.findall(ej3_patron1, email):\n",
    "    day_value =re.findall(ej3_patron2, linea)\n",
    "    print(day_value)\n",
    "    dicc_regx[\"Day\"] += day_value"
   ]
  },
  {
   "cell_type": "markdown",
   "metadata": {},
   "source": [
    "4. El asunto del email (os deberían salir 2).\n"
   ]
  },
  {
   "cell_type": "code",
   "execution_count": 80,
   "metadata": {},
   "outputs": [],
   "source": [
    "ej4_patron1 = \"Subject:.*\""
   ]
  },
  {
   "cell_type": "code",
   "execution_count": 81,
   "metadata": {},
   "outputs": [
    {
     "name": "stdout",
     "output_type": "stream",
     "text": [
      "Subject: URGENT ASSISTANCE /RELATIONSHIP (P)\n",
      "Subject: URGENT BUSINESS ASSISTANCE AND PARTNERSHIP\n"
     ]
    }
   ],
   "source": [
    "for linea in re.findall(ej4_patron1, email):\n",
    "    subject_value = linea\n",
    "    dicc_regx[\"Subject\"].append(subject_value)\n",
    "    print(linea)"
   ]
  },
  {
   "cell_type": "markdown",
   "metadata": {},
   "source": [
    "5. Guarda todos los resultados en un diccionario:"
   ]
  },
  {
   "cell_type": "markdown",
   "metadata": {},
   "source": [
    "El diccionario se ha creado al principio del documento y hemos ido añadiendo los valores a medida que los creábamos. Como se podrá comprobar, el diccionario está creado y los valores han sido correctamente incorporados:"
   ]
  },
  {
   "cell_type": "code",
   "execution_count": 82,
   "metadata": {},
   "outputs": [
    {
     "data": {
      "text/plain": [
       "{'Address': ['bensul2004nng@spinfinder.com', 'james_ngola2002@maktoob.com'],\n",
       " 'Name': ['\"Mr. Ben Suleman\"', '\"MR. JAMES NGOLA.\"'],\n",
       " 'Day': ['Thu, 31 Oct 2002', 'Thu, 31 Oct 2002'],\n",
       " 'Subject': ['Subject: URGENT ASSISTANCE /RELATIONSHIP (P)',\n",
       "  'Subject: URGENT BUSINESS ASSISTANCE AND PARTNERSHIP']}"
      ]
     },
     "execution_count": 82,
     "metadata": {},
     "output_type": "execute_result"
    }
   ],
   "source": [
    "dicc_regx"
   ]
  }
 ],
 "metadata": {
  "kernelspec": {
   "display_name": "Python 3.10.7 64-bit",
   "language": "python",
   "name": "python3"
  },
  "language_info": {
   "codemirror_mode": {
    "name": "ipython",
    "version": 3
   },
   "file_extension": ".py",
   "mimetype": "text/x-python",
   "name": "python",
   "nbconvert_exporter": "python",
   "pygments_lexer": "ipython3",
   "version": "3.10.7"
  },
  "orig_nbformat": 4,
  "vscode": {
   "interpreter": {
    "hash": "0c7d85b6ca8c4414e9248eeaa7ba80594b1aefb2b06fa07a2481546730d70288"
   }
  }
 },
 "nbformat": 4,
 "nbformat_minor": 2
}
