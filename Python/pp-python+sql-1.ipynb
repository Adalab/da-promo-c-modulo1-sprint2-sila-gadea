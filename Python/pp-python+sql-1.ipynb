{
 "cells": [
  {
   "cell_type": "code",
   "execution_count": 1,
   "metadata": {},
   "outputs": [
    {
     "name": "stdout",
     "output_type": "stream",
     "text": [
      "<mysql.connector.connection_cext.CMySQLConnection object at 0x0000013B54241DB0>\n"
     ]
    }
   ],
   "source": [
    "import mysql.connector\n",
    "\n",
    "cnx = mysql.connector.connect(user='root', password='AlumnaAdalab',\n",
    "                              host='127.0.0.1',\n",
    "                              database='tienda')\n",
    "\n",
    "print(cnx)\n",
    "cnx.close()"
   ]
  },
  {
   "cell_type": "code",
   "execution_count": 3,
   "metadata": {},
   "outputs": [],
   "source": [
    "from mysql.connector import errorcode\n",
    "\n",
    "# En este código estamos haciendo un try except. Si recordamos esto nos permitía hacer un manejo de los errores, para evitar que nuestro código se pare. Para eso lo que estamos haciendo es\n",
    "## intenta hacer la conexión son la base de datos de tienda \n",
    "# el .connect es para conectarnos.\n",
    "try:\n",
    "  cnx = mysql.connector.connect(user='root', password='AlumnaAdalab',\n",
    "                              host='127.0.0.1',\n",
    "                              database='tienda')\n",
    "# en caso de que no lo consigas por que hay algún error entonces ...\n",
    "except mysql.connector.Error as err:\n",
    "\n",
    "  # si es un error con la contraseña devuelveme un mensaje de acceso denegado ya que tenemos problemas con la contraseña\n",
    "  if err.errno == errorcode.ER_ACCESS_DENIED_ERROR:\n",
    "    print(\"Something is wrong with your user name or password\")\n",
    "  \n",
    "  # si el error no tiene que ver con la contraseña, puede ser porque la base de datos no exista, devuelveme un mensaje de que la base de datos no existe\n",
    "  elif err.errno == errorcode.ER_BAD_DB_ERROR:\n",
    "    print(\"Database does not exist\")\n",
    "  \n",
    "  # si no es por ninguno de los errores anteriores, printeame cual es el error que estoy teniendo en mi conexión\n",
    "  else:\n",
    "    print(err)\n",
    "else:\n",
    "  cnx.close()"
   ]
  },
  {
   "cell_type": "code",
   "execution_count": 4,
   "metadata": {},
   "outputs": [],
   "source": [
    "config = {\n",
    "  'user': 'root',\n",
    "  'password': 'AlumnaAdalab',\n",
    "  'host': '127.0.0.1',\n",
    "  'database': 'tienda',\n",
    "  'raise_on_warnings': True\n",
    "}\n",
    "\n",
    "cnx = mysql.connector.connect(**config)\n",
    "\n",
    "cnx.close()"
   ]
  },
  {
   "cell_type": "markdown",
   "metadata": {},
   "source": [
    "### Ejercicios"
   ]
  },
  {
   "cell_type": "markdown",
   "metadata": {},
   "source": [
    "1.- Antes de empezar a trabajar con la BBDD de Northwind, conozcamos un poco las BBDD que tenemos en nuestro servidor. ¿Qué BBDD tenemos en nuestro servidor?"
   ]
  },
  {
   "cell_type": "code",
   "execution_count": 3,
   "metadata": {},
   "outputs": [],
   "source": [
    "import mysql.connector\n",
    "\n",
    "cnx = mysql.connector.connect(user='root', password='AlumnaAdalab',\n",
    "                              host='127.0.0.1',\n",
    "                              database='northwind')\n"
   ]
  },
  {
   "cell_type": "markdown",
   "metadata": {},
   "source": [
    "2.- Empezemos a explorar la BBDD de Northwind. ¿Qué tablas componen la BBDD? Recuerda que primero nos tendremos que conectar con la BBDD sobre la que queremos trabajar. Guarda el resultado de los nombres de la tablas en una lista.\n"
   ]
  },
  {
   "cell_type": "code",
   "execution_count": 4,
   "metadata": {},
   "outputs": [],
   "source": [
    "mydb = mysql.connector.connect(user='root', password='AlumnaAdalab',\n",
    "                              host='127.0.0.1',\n",
    "                              database='northwind')\n"
   ]
  },
  {
   "cell_type": "code",
   "execution_count": null,
   "metadata": {},
   "outputs": [],
   "source": []
  },
  {
   "cell_type": "code",
   "execution_count": 10,
   "metadata": {},
   "outputs": [
    {
     "name": "stdout",
     "output_type": "stream",
     "text": [
      "('categories',)\n",
      "('categories', 'consulta_1')\n",
      "('categories', 'consulta_1', 'customer_customer_demo')\n",
      "('categories', 'consulta_1', 'customer_customer_demo', 'customer_demographics')\n",
      "('categories', 'consulta_1', 'customer_customer_demo', 'customer_demographics', 'customers')\n",
      "('categories', 'consulta_1', 'customer_customer_demo', 'customer_demographics', 'customers', 'empleadas')\n",
      "('categories', 'consulta_1', 'customer_customer_demo', 'customer_demographics', 'customers', 'empleadas', 'employee_territories')\n",
      "('categories', 'consulta_1', 'customer_customer_demo', 'customer_demographics', 'customers', 'empleadas', 'employee_territories', 'employees')\n",
      "('categories', 'consulta_1', 'customer_customer_demo', 'customer_demographics', 'customers', 'empleadas', 'employee_territories', 'employees', 'order_details')\n",
      "('categories', 'consulta_1', 'customer_customer_demo', 'customer_demographics', 'customers', 'empleadas', 'employee_territories', 'employees', 'order_details', 'orders')\n",
      "('categories', 'consulta_1', 'customer_customer_demo', 'customer_demographics', 'customers', 'empleadas', 'employee_territories', 'employees', 'order_details', 'orders', 'pedidos')\n",
      "('categories', 'consulta_1', 'customer_customer_demo', 'customer_demographics', 'customers', 'empleadas', 'employee_territories', 'employees', 'order_details', 'orders', 'pedidos', 'personas2')\n",
      "('categories', 'consulta_1', 'customer_customer_demo', 'customer_demographics', 'customers', 'empleadas', 'employee_territories', 'employees', 'order_details', 'orders', 'pedidos', 'personas2', 'productos')\n",
      "('categories', 'consulta_1', 'customer_customer_demo', 'customer_demographics', 'customers', 'empleadas', 'employee_territories', 'employees', 'order_details', 'orders', 'pedidos', 'personas2', 'productos', 'products')\n",
      "('categories', 'consulta_1', 'customer_customer_demo', 'customer_demographics', 'customers', 'empleadas', 'employee_territories', 'employees', 'order_details', 'orders', 'pedidos', 'personas2', 'productos', 'products', 'region')\n",
      "('categories', 'consulta_1', 'customer_customer_demo', 'customer_demographics', 'customers', 'empleadas', 'employee_territories', 'employees', 'order_details', 'orders', 'pedidos', 'personas2', 'productos', 'products', 'region', 'shippers')\n",
      "('categories', 'consulta_1', 'customer_customer_demo', 'customer_demographics', 'customers', 'empleadas', 'employee_territories', 'employees', 'order_details', 'orders', 'pedidos', 'personas2', 'productos', 'products', 'region', 'shippers', 'suppliers')\n",
      "('categories', 'consulta_1', 'customer_customer_demo', 'customer_demographics', 'customers', 'empleadas', 'employee_territories', 'employees', 'order_details', 'orders', 'pedidos', 'personas2', 'productos', 'products', 'region', 'shippers', 'suppliers', 'territories')\n"
     ]
    }
   ],
   "source": [
    "mycursor = mydb.cursor()\n",
    "mycursor.execute('SHOW TABLES')\n",
    "nombres_tablas = ()\n",
    "for x in mycursor:\n",
    "    nombres_tablas = nombres_tablas + x\n",
    "    print(nombres_tablas)\n"
   ]
  },
  {
   "cell_type": "markdown",
   "metadata": {},
   "source": [
    "Printeamos la variable que hemos creado para comprobar que se han almacenado los datos correctamente. Aparece printeado 'consulta_1' y 'personas2' por unos experimentos que estuvo realizando Gadea al crear nuevas tablas en Northwind."
   ]
  },
  {
   "cell_type": "code",
   "execution_count": 11,
   "metadata": {},
   "outputs": [
    {
     "data": {
      "text/plain": [
       "('categories',\n",
       " 'consulta_1',\n",
       " 'customer_customer_demo',\n",
       " 'customer_demographics',\n",
       " 'customers',\n",
       " 'empleadas',\n",
       " 'employee_territories',\n",
       " 'employees',\n",
       " 'order_details',\n",
       " 'orders',\n",
       " 'pedidos',\n",
       " 'personas2',\n",
       " 'productos',\n",
       " 'products',\n",
       " 'region',\n",
       " 'shippers',\n",
       " 'suppliers',\n",
       " 'territories')"
      ]
     },
     "execution_count": 11,
     "metadata": {},
     "output_type": "execute_result"
    }
   ],
   "source": [
    "nombres_tablas"
   ]
  },
  {
   "cell_type": "markdown",
   "metadata": {},
   "source": [
    "    Guardamos los nombres de la BBDD en una lista:"
   ]
  },
  {
   "cell_type": "markdown",
   "metadata": {},
   "source": [
    "3.- ¿Qué columnas tiene cada una de las tablas? Para esto tendréis que hacer un for loop para que nos saque el resultado de todas las columnas."
   ]
  },
  {
   "cell_type": "code",
   "execution_count": 25,
   "metadata": {},
   "outputs": [
    {
     "name": "stdout",
     "output_type": "stream",
     "text": [
      "<class 'tuple'>\n"
     ]
    }
   ],
   "source": []
  },
  {
   "cell_type": "code",
   "execution_count": null,
   "metadata": {},
   "outputs": [],
   "source": []
  },
  {
   "cell_type": "code",
   "execution_count": 23,
   "metadata": {},
   "outputs": [
    {
     "name": "stdout",
     "output_type": "stream",
     "text": [
      "<class 'tuple'>\n"
     ]
    }
   ],
   "source": [
    "print(type(nombres_tablas))"
   ]
  },
  {
   "cell_type": "code",
   "execution_count": 14,
   "metadata": {},
   "outputs": [
    {
     "data": {
      "text/plain": [
       "[]"
      ]
     },
     "execution_count": 14,
     "metadata": {},
     "output_type": "execute_result"
    }
   ],
   "source": [
    "nombres_columnas"
   ]
  },
  {
   "cell_type": "markdown",
   "metadata": {},
   "source": [
    "4.- Hagamos unas queries facilitas:\n",
    "\n"
   ]
  },
  {
   "cell_type": "markdown",
   "metadata": {},
   "source": [
    " - Extraed el primer pedido donde se ha gastado más. Devolved el id del pedido y la cantidad gastada."
   ]
  },
  {
   "cell_type": "markdown",
   "metadata": {},
   "source": [
    "SELECT order_details.order_id, ((unit_price * quantity) - discount) AS 'CostePedido' FROM northwind.order_details\n",
    "ORDER BY CostePedido DESC;"
   ]
  },
  {
   "cell_type": "code",
   "execution_count": null,
   "metadata": {},
   "outputs": [],
   "source": []
  },
  {
   "cell_type": "code",
   "execution_count": null,
   "metadata": {},
   "outputs": [],
   "source": [
    "df = pd.DataFrame(myresult, columns = ['ID', 'Nombre', 'Apellido','Email','Telefono','Direccion','Ciudad','Pais'])"
   ]
  },
  {
   "cell_type": "markdown",
   "metadata": {},
   "source": [
    " - Devuelve la misma query que en el anterior ejercicio, pero en este caso devuelve todos los resultados."
   ]
  },
  {
   "cell_type": "markdown",
   "metadata": {},
   "source": [
    "\n",
    "\n",
    " - Extraer los pedidos hechos por \"Nancy Daviolo\". Tendréis que hacer una subquery.\n",
    " - Para finalizar el ejercicio, desconectad la conexión con el servidor."
   ]
  },
  {
   "cell_type": "markdown",
   "metadata": {},
   "source": [
    " - Extraed el números de pedidos que se hayan hecho por dia. Devuelve los resultados en una dataframe."
   ]
  },
  {
   "cell_type": "markdown",
   "metadata": {},
   "source": []
  },
  {
   "cell_type": "code",
   "execution_count": null,
   "metadata": {},
   "outputs": [],
   "source": []
  }
 ],
 "metadata": {
  "kernelspec": {
   "display_name": "Python 3.10.7 64-bit",
   "language": "python",
   "name": "python3"
  },
  "language_info": {
   "codemirror_mode": {
    "name": "ipython",
    "version": 3
   },
   "file_extension": ".py",
   "mimetype": "text/x-python",
   "name": "python",
   "nbconvert_exporter": "python",
   "pygments_lexer": "ipython3",
   "version": "3.10.7"
  },
  "orig_nbformat": 4,
  "vscode": {
   "interpreter": {
    "hash": "0c7d85b6ca8c4414e9248eeaa7ba80594b1aefb2b06fa07a2481546730d70288"
   }
  }
 },
 "nbformat": 4,
 "nbformat_minor": 2
}
