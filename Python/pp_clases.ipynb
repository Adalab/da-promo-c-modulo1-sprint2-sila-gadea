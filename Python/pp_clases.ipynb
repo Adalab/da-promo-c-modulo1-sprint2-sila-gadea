{
 "cells": [
  {
   "cell_type": "markdown",
   "metadata": {},
   "source": [
    "En este ejercicio de pair programming crearemos una clase.\n",
    "Imaginemos que nuestro jefe nos pide que creemos una clase para tener más ordenada la información sobre cada uno de los empleados de la empresa. \n",
    "\n",
    "Para ello:\n",
    "1.- Definid una clase que se llame Empleados.\n",
    "2.- Definid los siguientes atributos que caracterizan a nuestros empleados:\n",
    "    - nombre\n",
    "    - apellido\n",
    "    - edad\n",
    "    - posición que ocupa en la empresa\n",
    "    - año en que entró en la empresa\n",
    "    - número de días de vacaciones que tiene\n",
    "    - Las herramientas que usa cada uno de ellos, por ejemplo, Outlook, excel y word. Deberá ser una lista.\n",
    "\n",
    "3.- Cread una instancia para la clase creada.\n",
    "4.- Definid los siguientes métodos:\n",
    "    - descripción\n",
    "    - calculo_vacaciones\n",
    "    - cambiando_posicion\n",
    "        \n",
    "        Tips para definir los métodos:\n",
    "        - Método descripcion:\n",
    "            El return deberá ser un string en el que aparezca el nombre, apellidos, los años que lleva en la empresa y los días de vacaciones que le quedan. Este método deberá devolver algo como esto:\n",
    "            \"El/ella, es Lorena, Data Analyst, quien lleva con nostros en la empresa desde 2000. Además este año le quedan 15 dias de vacaciones\"\n",
    "        - Método calculo_vacaciones:\n",
    "            Deberá contener input que nos pregunte cuántos días te quieres ir de vacaciones.\n",
    "            Luego deberemos restar el número de días que se fue de vacaciones a el número total de vacaciones que tiene ese empleado.\n",
    "            Una condición que chequee si:\n",
    "            Si el numero de vacaciones que tiene el empleado es igual a 0, devolved un mensaje que diga que se le acabaron las vacaciones\n",
    "            Si el número de días que se quiere ir de vacaciones es mayor que el número de vacaciones que le quedan, devolved un mensaje que diga que no se puede ir tantos de vacaciones\n",
    "            En caso de que no se cumplan ninguna de estas condiciones, que nos devuelva el número de vacaciones que le quedan al empleado.\n",
    "        - Método cambiando_posicion:\n",
    "            Iteraremos por la lista de herramientas que usa el empleado:\n",
    "            Si el empleado usa \"Python\" devolveremos un mensaje de bien hecho!\n",
    "            Si el empleado usa \"Excel\" le recomendaremos amigablemente que deje excel y empiece a usar Excel"
   ]
  },
  {
   "cell_type": "code",
   "execution_count": 4,
   "metadata": {},
   "outputs": [],
   "source": [
    "class Empleados:\n",
    "    def __init__(self, nombre, apellido, edad, posicion, antiguedad, vacaciones, herramientas):\n",
    "        self.nombre = nombre\n",
    "        self.apellido = apellido\n",
    "        self.edad = edad\n",
    "        self.posicion = posicion\n",
    "        self.antiguedad = antiguedad\n",
    "        self.vacaciones = vacaciones\n",
    "        self.herramientas = herramientas\n",
    "\n",
    "    def descripcion (self):\n",
    "        return f\"Ella es {self.nombre}, {self.posicion} quien lleva con nosotros en la empresa desde {self.antiguedad}. Además este año le quedan {self.vacaciones} días de vacaciones.\"\n",
    "\n",
    "    def calculo_vacaciones(self):\n",
    "        dias_vacaciones = int(input(\"¿Cuantos días te quieres ir de vacaciones?\"))\n",
    "        dias_restantes = self.vacaciones - dias_vacaciones\n",
    "        if dias_restantes == 0:\n",
    "            return print (\"Se te han acabado las vacaciones.\")\n",
    "        if dias_restantes < dias_vacaciones:\n",
    "            return print (\"No te puedes ir tantos días de vacaciones.\")\n",
    "        else:\n",
    "            return dias_restantes\n",
    "\n",
    "    def cambiando_posicion (self):\n",
    "        for a in self.posicion():\n",
    "            if herramientas == \"Python\":\n",
    "                return \"¡Bien hecho!\"\n",
    "            if herramientas == \"Excel\":\n",
    "                return \"Deja el Excel. Ven al Python\"\n",
    "pass"
   ]
  },
  {
   "cell_type": "code",
   "execution_count": 6,
   "metadata": {},
   "outputs": [
    {
     "data": {
      "text/plain": [
       "<__main__.Empleados at 0x7f7ee9fbe9d0>"
      ]
     },
     "execution_count": 6,
     "metadata": {},
     "output_type": "execute_result"
    }
   ],
   "source": [
    "Sila = Empleados(\"Sila\", \"Rivas\", 39, \"freelace\", 11, 0, \"Excel\")\n",
    "Sila"
   ]
  },
  {
   "cell_type": "code",
   "execution_count": 7,
   "metadata": {},
   "outputs": [
    {
     "data": {
      "text/plain": [
       "'Sila'"
      ]
     },
     "execution_count": 7,
     "metadata": {},
     "output_type": "execute_result"
    }
   ],
   "source": [
    "Sila.nombre"
   ]
  },
  {
   "cell_type": "code",
   "execution_count": 8,
   "metadata": {},
   "outputs": [
    {
     "data": {
      "text/plain": [
       "'freelace'"
      ]
     },
     "execution_count": 8,
     "metadata": {},
     "output_type": "execute_result"
    }
   ],
   "source": [
    "Sila.posicion"
   ]
  },
  {
   "cell_type": "code",
   "execution_count": 11,
   "metadata": {},
   "outputs": [
    {
     "data": {
      "text/plain": [
       "'Ella es Sila, freelace quien lleva con nosotros en la empresa desde 11. Además este año le quedan 0 días de vacaciones.'"
      ]
     },
     "execution_count": 11,
     "metadata": {},
     "output_type": "execute_result"
    }
   ],
   "source": [
    "Sila.descripcion()"
   ]
  }
 ],
 "metadata": {
  "kernelspec": {
   "display_name": "base",
   "language": "python",
   "name": "python3"
  },
  "language_info": {
   "codemirror_mode": {
    "name": "ipython",
    "version": 3
   },
   "file_extension": ".py",
   "mimetype": "text/x-python",
   "name": "python",
   "nbconvert_exporter": "python",
   "pygments_lexer": "ipython3",
   "version": "3.9.13"
  },
  "orig_nbformat": 4,
  "vscode": {
   "interpreter": {
    "hash": "40d3a090f54c6569ab1632332b64b2c03c39dcf918b08424e98f38b5ae0af88f"
   }
  }
 },
 "nbformat": 4,
 "nbformat_minor": 2
}
