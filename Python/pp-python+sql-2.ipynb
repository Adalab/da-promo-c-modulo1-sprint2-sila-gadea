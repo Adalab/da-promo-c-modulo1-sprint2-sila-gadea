{
 "cells": [
  {
   "cell_type": "code",
   "execution_count": 1,
   "metadata": {},
   "outputs": [
    {
     "name": "stdout",
     "output_type": "stream",
     "text": [
      "1007 (HY000): Can't create database 'mi_primerita_bbdd_python'; database exists\n",
      "Error Code: 1007\n",
      "SQLSTATE HY000\n",
      "Message Can't create database 'mi_primerita_bbdd_python'; database exists\n"
     ]
    }
   ],
   "source": [
    "import mysql.connector\n",
    "\n",
    "cnx = mysql.connector.connect(user='root', password='AlumnaAdalab',\n",
    "                              host='127.0.0.1')\n",
    "\n",
    "\n",
    "mycursor = cnx.cursor()\n",
    "try:\n",
    "    mycursor.execute(\"CREATE DATABASE mi_primerita_BBDD_Python\")\n",
    "    print(mycursor)\n",
    "except mysql.connector.Error as err:\n",
    "    print(err)\n",
    "    print(\"Error Code:\", err.errno)\n",
    "    print(\"SQLSTATE\", err.sqlstate)\n",
    "    print(\"Message\", err.msg)"
   ]
  },
  {
   "cell_type": "markdown",
   "metadata": {},
   "source": [
    "Creamos la base de datos. No podemos cambiar el nombre dado que ayer no la creamos: En el ejercicio del último día trabajamos con Northwind. Para cambiarle el nombre a la BBDD tendríamos que ejecutar el siguiente código:\n"
   ]
  },
  {
   "cell_type": "code",
   "execution_count": null,
   "metadata": {},
   "outputs": [],
   "source": [
    "mycursor.execute(\"RENAME DATABASE nombre_antiguo to nombre_nuevo\")"
   ]
  },
  {
   "cell_type": "code",
   "execution_count": 22,
   "metadata": {},
   "outputs": [],
   "source": [
    "def creacion_tablas(psswrd, query):\n",
    "    import mysql.connector\n",
    "\n",
    "    cnx = mysql.connector.connect(user='root', password= psswrd,\n",
    "                              host='127.0.0.1', database = \"mi_primerita_BBDD_Python\")\n",
    "    \n",
    "    mycursor = cnx.cursor()\n",
    "    \n",
    "    try:\n",
    "        query = query\n",
    "        mycursor.execute(query)\n",
    "        cnx.commit()\n",
    "        print(mycursor)\n",
    "    except mysql.connector.Error as err:\n",
    "        print(err)\n",
    "        print(\"Error Code:\", err.errno)\n",
    "        print(\"SQLSTATE\", err.sqlstate)\n",
    "        print(\"Message\", err.msg)\n",
    "    \n",
    "    mycursor.close()\n",
    "    cnx.close()"
   ]
  },
  {
   "cell_type": "code",
   "execution_count": 29,
   "metadata": {},
   "outputs": [],
   "source": [
    "tabla_zapatillas = \"\"\"CREATE TABLE IF NOT EXISTS Zapatillas (id_zapatillas INT NOT NULL AUTO_INCREMENT PRIMARY KEY, modelo VARCHAR(45) NOT NULL, color VARCHAR(45) NOT NULL, talla INT NOT NULL);\"\"\""
   ]
  },
  {
   "cell_type": "code",
   "execution_count": 30,
   "metadata": {},
   "outputs": [
    {
     "name": "stdout",
     "output_type": "stream",
     "text": [
      "CMySQLCursor: CREATE TABLE Zapatillas (id_zapatillas I..\n"
     ]
    }
   ],
   "source": [
    "creacion_tablas(\"AlumnaAdalab\", tabla_zapatillas)"
   ]
  },
  {
   "cell_type": "markdown",
   "metadata": {},
   "source": [
    "Creamos la tabla \"Clientes\":"
   ]
  },
  {
   "cell_type": "code",
   "execution_count": 32,
   "metadata": {},
   "outputs": [],
   "source": [
    "tabla_clientes = \"\"\"CREATE TABLE IF NOT EXISTS Clientes (id_cliente INT NOT NULL AUTO_INCREMENT PRIMARY KEY, \n",
    "nombre VARCHAR(45) NOT NULL, numero_telefono INT(9) NOT NULL, email VARCHAR(45) NOT NULL, \n",
    "direccion VARCHAR(45) NOT NULL, ciudad VARCHAR(45), provincia VARCHAR(45) NOT NULL, pais VARCHAR(45) NOT NULL, \n",
    "cod_postal INT(9) NOT NULL)\"\"\""
   ]
  },
  {
   "cell_type": "code",
   "execution_count": 33,
   "metadata": {},
   "outputs": [
    {
     "name": "stdout",
     "output_type": "stream",
     "text": [
      "CMySQLCursor: CREATE TABLE Clientes (id_cliente INT NO..\n"
     ]
    }
   ],
   "source": [
    "creacion_tablas(\"AlumnaAdalab\", tabla_clientes)"
   ]
  },
  {
   "cell_type": "markdown",
   "metadata": {},
   "source": [
    "Creamos la tabla \"Empleados\":"
   ]
  },
  {
   "cell_type": "code",
   "execution_count": 36,
   "metadata": {},
   "outputs": [],
   "source": [
    "tabla_empleados =\"\"\"CREATE TABLE IF NOT EXISTS Empleados (id_empleado INT NOT NULL AUTO_INCREMENT PRIMARY KEY, nombre VARCHAR(45) NOT NULL,\n",
    "tienda VARCHAR(45) NOT NULL, salario FLOAT, fecha_incorporacion DATE NOT NULL)\"\"\""
   ]
  },
  {
   "cell_type": "code",
   "execution_count": 37,
   "metadata": {},
   "outputs": [
    {
     "name": "stdout",
     "output_type": "stream",
     "text": [
      "CMySQLCursor: CREATE TABLE Empleados (id_empleado INT ..\n"
     ]
    }
   ],
   "source": [
    "creacion_tablas(\"AlumnaAdalab\", tabla_empleados)"
   ]
  },
  {
   "cell_type": "markdown",
   "metadata": {},
   "source": [
    "Creamos la tabla \"Facturas\":"
   ]
  },
  {
   "cell_type": "code",
   "execution_count": 44,
   "metadata": {},
   "outputs": [],
   "source": [
    "tabla_facturas = \"\"\"\n",
    "CREATE TABLE IF NOT EXISTS facturas ( \n",
    "    id_facturas INT NOT NULL AUTO_INCREMENT,\n",
    "    numero_factura VARCHAR(45) NOT NULL,\n",
    "    fecha DATE NOT NULL,\n",
    "    id_zapatillas INT NOT NULL,\n",
    "    id_cliente INT NOT NULL,\n",
    "    id_empleado INT NOT NULL,\n",
    "    CONSTRAINT fk_facturas_zapatillas\n",
    "\t\tFOREIGN KEY (id_zapatillas)\n",
    "\tREFERENCES zapatillas (id_zapatillas)\n",
    "\t\tON DELETE cascade ON UPDATE cascade,\n",
    "\tCONSTRAINT fk_facturas_empleados\n",
    "\t\tFOREIGN KEY (id_empleado)\n",
    "\tREFERENCES empleados (id_empleado)\n",
    "\t\tON DELETE cascade ON UPDATE cascade,\n",
    "\tCONSTRAINT fk_facturas_cliente\n",
    "\t\tFOREIGN KEY (id_cliente)\n",
    "\tREFERENCES clientes  (id_cliente)\n",
    "\t\tON DELETE cascade ON UPDATE cascade,\n",
    "    PRIMARY KEY (id_facturas)\n",
    "    );\"\"\""
   ]
  },
  {
   "cell_type": "code",
   "execution_count": 45,
   "metadata": {},
   "outputs": [
    {
     "name": "stdout",
     "output_type": "stream",
     "text": [
      "CMySQLCursor: \n",
      "CREATE TABLE IF NOT EXISTS facturas ( \n",
      "..\n"
     ]
    }
   ],
   "source": [
    "creacion_tablas(\"AlumnaAdalab\", tabla_facturas)"
   ]
  }
 ],
 "metadata": {
  "kernelspec": {
   "display_name": "Python 3.10.7 64-bit",
   "language": "python",
   "name": "python3"
  },
  "language_info": {
   "codemirror_mode": {
    "name": "ipython",
    "version": 3
   },
   "file_extension": ".py",
   "mimetype": "text/x-python",
   "name": "python",
   "nbconvert_exporter": "python",
   "pygments_lexer": "ipython3",
   "version": "3.10.7"
  },
  "orig_nbformat": 4,
  "vscode": {
   "interpreter": {
    "hash": "0c7d85b6ca8c4414e9248eeaa7ba80594b1aefb2b06fa07a2481546730d70288"
   }
  }
 },
 "nbformat": 4,
 "nbformat_minor": 2
}
