{
 "cells": [
  {
   "cell_type": "code",
   "execution_count": null,
   "metadata": {},
   "outputs": [],
   "source": [
    "#carpeta trabajando\n",
    "#carpeta aprendiendo ficheros\n",
    "#datos - guardamos el fichero saludo\n",
    "#nombre de la carpeta (af) a primera-toma-contacto .-.-."
   ]
  },
  {
   "cell_type": "markdown",
   "metadata": {},
   "source": [
    "## EJERCICIO 1."
   ]
  },
  {
   "cell_type": "markdown",
   "metadata": {},
   "source": [
    "Esta función debe incluir el código que:\n",
    "Nos muestre en que carpeta estamos trabajando.\n",
    "- Cree una carpeta que se llame     \"aprendiendo-ficheros\". ⚠️ Tened en cuenta que si la carpeta ya existe no la podemos crear, nos devolverá un error. Incluye en la función un programa que evite que nos de un error si la carpeta ya existe.\n",
    "- Cree otra carpeta que se llame \"datos\" dentro de la carpeta \"aprendiendo-ficheros\". En esta carpeta \"datos\" guardaremos el fichero \"saludo.txt\" que os habéis descargado.\n",
    "- Cambiad el directorio de trabajo a la carpeta \"datos\". Antes de seguir chequead que estáis trabajando en la carpeta \"datos\".\n",
    "- Cambiad el nombre de la carpeta creada en el punto 2 a \"primera-toma-contacto\""
   ]
  },
  {
   "cell_type": "code",
   "execution_count": 1,
   "metadata": {},
   "outputs": [],
   "source": [
    "import os\n",
    "from os import listdir"
   ]
  },
  {
   "cell_type": "code",
   "execution_count": null,
   "metadata": {},
   "outputs": [],
   "source": [
    "import pandas as pd\n",
    "import matplotlib.pyplot as plt"
   ]
  },
  {
   "cell_type": "code",
   "execution_count": null,
   "metadata": {},
   "outputs": [],
   "source": [
    "import xml.etree.ElementTree as ET"
   ]
  },
  {
   "cell_type": "code",
   "execution_count": 26,
   "metadata": {},
   "outputs": [],
   "source": [
    "def ejercicio1 (folder, subfolder, new_folder_name):\n",
    "    directorio = os.getcwd()\n",
    "    print(f'Estás en el directorio {directorio}')\n",
    "    if folder in os.listdir():\n",
    "        print(f'La carpeta {folder} ya existe aquí. Borra la carpeta y vuélvelo a intentar')\n",
    "        return\n",
    "    \n",
    "    os.mkdir(folder) #creamos la carpeta madre\n",
    "    #para crear la carpeta anidada con la función os.path.join:\n",
    "    data_folder = os.path.join(folder,subfolder)\n",
    "    os.mkdir(data_folder)\n",
    "    f_copy = open(\"saludo.txt\", \"r\")\n",
    "    saludo = f_copy.read()\n",
    "    f_copy.close()\n",
    "    #otra manera de insertar el archivo sería con el método os.path.join:\n",
    "    #open(os.path.join(data_folder, 'saludo.txt'), 'w')\n",
    "    \n",
    "    os.chdir(data_folder)\n",
    "    new_f = open(\"saludo.txt\", \"w\")\n",
    "    new_f.write(saludo)\n",
    "    new_f.close()\n",
    "\n",
    "    os.chdir('..') #volvemos a carpeta madre\n",
    "\n",
    "    os.rename(subfolder, new_folder_name)\n",
    "    os.chdir(directorio)\n"
   ]
  },
  {
   "cell_type": "code",
   "execution_count": 27,
   "metadata": {},
   "outputs": [
    {
     "name": "stdout",
     "output_type": "stream",
     "text": [
      "Estás en el directorio d:\\Desktop\\ADALAB\\Repositorios GitHub\\Modulo 1\\Repositorio GitHub Sila y Gadea\\da-promo-c-modulo1-sprint2-sila-gadea\\Python\n",
      "La carpeta aprendiendo-ficheros ya existe aquí. Borra la carpeta y vuélvelo a intentar\n"
     ]
    }
   ],
   "source": [
    "ejercicio1('aprendiendo-ficheros', 'datos', 'primera-toma-contacto')"
   ]
  },
  {
   "cell_type": "markdown",
   "metadata": {},
   "source": [
    "Lea el fichero y muestre su contenido completo:"
   ]
  },
  {
   "cell_type": "code",
   "execution_count": 35,
   "metadata": {},
   "outputs": [
    {
     "name": "stdout",
     "output_type": "stream",
     "text": [
      "Hola Adalabers!!!\n",
      "\n",
      "Estamos en la sesión de pair-programming para familiarizarnos con la gestión de carpetas y ficheros desde Python 🙂🌊\n",
      "\n",
      "Esto esta siendo suuuper divertidooooo\n"
     ]
    }
   ],
   "source": [
    "f = open(\"saludo.txt\", \"r\", encoding=\"UTF-8\")\n",
    "print(f.read())\n",
    "f.close()"
   ]
  },
  {
   "cell_type": "markdown",
   "metadata": {},
   "source": [
    "Muestra la línea 4 del fichero:"
   ]
  },
  {
   "cell_type": "code",
   "execution_count": 44,
   "metadata": {},
   "outputs": [
    {
     "name": "stdout",
     "output_type": "stream",
     "text": [
      "\n",
      "\n"
     ]
    }
   ],
   "source": [
    "f = open(\"saludo.txt\", \"r\", encoding=\"UTF-8\")\n",
    "lines = f.readlines()\n",
    "print(lines[3])\n",
    "f.close()"
   ]
  },
  {
   "cell_type": "markdown",
   "metadata": {},
   "source": [
    "El resultado salen vacío ya que la 4ta línea del archivo está vacía."
   ]
  },
  {
   "cell_type": "markdown",
   "metadata": {},
   "source": [
    "1. La función debe recibir 4 parámetros:\n",
    "- Nombre del fichero, incluyendo la extensión.\n",
    "- Como queremos leer el fichero.\n",
    "- El encoding del fichero.\n",
    "- El contenido que queremos escribir en el fichero.\n",
    "Condiciones de la función:\n",
    "- Si el fichero no existe, debe crearlo, insertar contenido y mostrar su contenido.\n",
    "- Si el fichero existe pregunta al usuario si quiere sobreescribirlo. En caso de Si, sobreescribe el fichero, insertad contenido y leedlo. En caso de No, no hace nada."
   ]
  },
  {
   "cell_type": "code",
   "execution_count": 49,
   "metadata": {},
   "outputs": [],
   "source": [
    "def ejercicio2 (namefile, mode, encoding, cont):\n",
    "    \n",
    "    if namefile in os.listdir():\n",
    "        respuesta = input(\"El archivo ya existe, ¿Quieres sobreescribirlo? y/n\")\n",
    "        if respuesta == 'n':\n",
    "            return\n",
    "    \n",
    "    f = open(namefile, mode=mode, encoding=encoding)\n",
    "    f.write(cont)\n",
    "    f.close()\n",
    "    \n",
    "    f = open(namefile, mode='r', encoding=encoding)\n",
    "    print(f.read())\n",
    "    f.close()"
   ]
  },
  {
   "cell_type": "code",
   "execution_count": 50,
   "metadata": {},
   "outputs": [
    {
     "name": "stdout",
     "output_type": "stream",
     "text": [
      "ejemplito\n"
     ]
    }
   ],
   "source": [
    "ejercicio2('ejemplo.txt', 'w', 'UTF-8', 'ejemplito')"
   ]
  },
  {
   "cell_type": "markdown",
   "metadata": {},
   "source": [
    "ARCHIVOS XML"
   ]
  },
  {
   "cell_type": "code",
   "execution_count": null,
   "metadata": {},
   "outputs": [],
   "source": [
    "#FUNCION para el archivo XML"
   ]
  },
  {
   "cell_type": "code",
   "execution_count": null,
   "metadata": {},
   "outputs": [],
   "source": [
    "#nos diga: el tag y atr del archivo\n",
    "#descripcion de cada una de ellas\n",
    "#los años de estreno"
   ]
  },
  {
   "cell_type": "code",
   "execution_count": 53,
   "metadata": {},
   "outputs": [],
   "source": [
    "import xml.etree.ElementTree as ET"
   ]
  },
  {
   "cell_type": "code",
   "execution_count": 74,
   "metadata": {},
   "outputs": [],
   "source": [
    "def ejercicio3 (file):\n",
    "    xml = ET.parse(file)\n",
    "    root = xml.getroot()\n",
    "    \n",
    "    for movie in root.iter('movie'):\n",
    "        print(movie.tag, movie.attrib) #para que nos devuelva los tags y los atrib\n",
    "        year = movie.find('year').text\n",
    "        description = movie.find('description').text\n",
    "        print(year, description)\n"
   ]
  },
  {
   "cell_type": "code",
   "execution_count": 75,
   "metadata": {},
   "outputs": [
    {
     "name": "stdout",
     "output_type": "stream",
     "text": [
      "movie {'favorite': 'True', 'title': 'Indiana Jones: The raiders of the lost Ark'}\n",
      "1981 \n",
      "                'Archaeologist and adventurer Indiana Jones \n",
      "                is hired by the U.S. government to find the Ark of  the Covenant before the Nazis.'\n",
      "                \n",
      "movie {'favorite': 'True', 'title': 'THE KARATE KID'}\n",
      "1984 None provided.\n",
      "movie {'favorite': 'False', 'title': 'Back 2 the Future'}\n",
      "1985 Marty McFly\n",
      "movie {'favorite': 'False', 'title': 'X-Men'}\n",
      "2000 Two mutants come to a private academy for their kind whose resident superhero team must oppose a terrorist organization with similar powers.\n",
      "movie {'favorite': 'True', 'title': 'Batman Returns'}\n",
      "1992 NA.\n",
      "movie {'favorite': 'False', 'title': 'Reservoir Dogs'}\n",
      "1992 WhAtEvER I Want!!!?!\n",
      "movie {'favorite': 'False', 'title': 'ALIEN'}\n",
      "1979 \"\"\"\"\"\"\"\"\"\n",
      "movie {'favorite': 'True', 'title': \"Ferris Bueller's Day Off\"}\n",
      "1986 Funny movie on funny guy \n",
      "movie {'favorite': 'FALSE', 'title': 'American Psycho'}\n",
      "2000 psychopathic Bateman\n"
     ]
    }
   ],
   "source": [
    "ejercicio3('peliculas.xml')"
   ]
  }
 ],
 "metadata": {
  "kernelspec": {
   "display_name": "Python 3.10.7 64-bit",
   "language": "python",
   "name": "python3"
  },
  "language_info": {
   "codemirror_mode": {
    "name": "ipython",
    "version": 3
   },
   "file_extension": ".py",
   "mimetype": "text/x-python",
   "name": "python",
   "nbconvert_exporter": "python",
   "pygments_lexer": "ipython3",
   "version": "3.10.7"
  },
  "orig_nbformat": 4,
  "vscode": {
   "interpreter": {
    "hash": "0c7d85b6ca8c4414e9248eeaa7ba80594b1aefb2b06fa07a2481546730d70288"
   }
  }
 },
 "nbformat": 4,
 "nbformat_minor": 2
}
